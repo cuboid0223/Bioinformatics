{
  "nbformat": 4,
  "nbformat_minor": 0,
  "metadata": {
    "colab": {
      "provenance": [],
      "include_colab_link": true
    },
    "kernelspec": {
      "name": "python3",
      "display_name": "Python 3"
    },
    "language_info": {
      "name": "python"
    }
  },
  "cells": [
    {
      "cell_type": "markdown",
      "metadata": {
        "id": "view-in-github",
        "colab_type": "text"
      },
      "source": [
        "<a href=\"https://colab.research.google.com/github/cuboid0223/Bioinformatics/blob/master/week8_HW.ipynb\" target=\"_parent\"><img src=\"https://colab.research.google.com/assets/colab-badge.svg\" alt=\"Open In Colab\"/></a>"
      ]
    },
    {
      "cell_type": "code",
      "execution_count": null,
      "metadata": {
        "id": "VsL5FSI8teos",
        "colab": {
          "base_uri": "https://localhost:8080/"
        },
        "outputId": "6ddd1d01-d2e7-4710-cc05-e3ad3e86f1c8"
      },
      "outputs": [
        {
          "output_type": "stream",
          "name": "stdout",
          "text": [
            "Collecting biopython\n",
            "  Downloading biopython-1.81-cp310-cp310-manylinux_2_17_x86_64.manylinux2014_x86_64.whl (3.1 MB)\n",
            "\u001b[2K     \u001b[90m━━━━━━━━━━━━━━━━━━━━━━━━━━━━━━━━━━━━━━━━\u001b[0m \u001b[32m3.1/3.1 MB\u001b[0m \u001b[31m6.3 MB/s\u001b[0m eta \u001b[36m0:00:00\u001b[0m\n",
            "\u001b[?25hRequirement already satisfied: numpy in /usr/local/lib/python3.10/dist-packages (from biopython) (1.23.5)\n",
            "Installing collected packages: biopython\n",
            "Successfully installed biopython-1.81\n"
          ]
        }
      ],
      "source": [
        "!pip install biopython"
      ]
    },
    {
      "cell_type": "code",
      "source": [
        "import numpy as np\n",
        "from Bio.Align import substitution_matrices as matlist\n",
        "from Bio import pairwise2\n",
        "from Bio.pairwise2 import format_alignment\n",
        "\n",
        "matrixFile = \"ARNDCQEGHILKMFPSTWYV\"\n",
        "matrix = matlist.load(\"PAM250\")\n",
        "\n",
        "length = len(matrixFile)\n",
        "pam = list()\n",
        "for x in range(length):\n",
        "  for y in range(length):\n",
        "    data = (matrixFile[x], matrixFile[y])\n",
        "    if data in matrix:\n",
        "      pam.append(matrix[data])\n",
        "    else:\n",
        "      adata = (matrixFile[y], matrixFile[x])\n",
        "      pam.append(matrix[adata])\n",
        "print(np.reshape(pam, (length, length)))"
      ],
      "metadata": {
        "colab": {
          "base_uri": "https://localhost:8080/"
        },
        "id": "Lg8Kt-VGtt5l",
        "outputId": "67968ab9-d10c-44bf-dd62-ea34aabd0cc7"
      },
      "execution_count": null,
      "outputs": [
        {
          "output_type": "stream",
          "name": "stdout",
          "text": [
            "[[ 2. -2.  0.  0. -2.  0.  0.  1. -1. -1. -2. -1. -1. -3.  1.  1.  1. -6.\n",
            "  -3.  0.]\n",
            " [-2.  6.  0. -1. -4.  1. -1. -3.  2. -2. -3.  3.  0. -4.  0.  0. -1.  2.\n",
            "  -4. -2.]\n",
            " [ 0.  0.  2.  2. -4.  1.  1.  0.  2. -2. -3.  1. -2. -3.  0.  1.  0. -4.\n",
            "  -2. -2.]\n",
            " [ 0. -1.  2.  4. -5.  2.  3.  1.  1. -2. -4.  0. -3. -6. -1.  0.  0. -7.\n",
            "  -4. -2.]\n",
            " [-2. -4. -4. -5. 12. -5. -5. -3. -3. -2. -6. -5. -5. -4. -3.  0. -2. -8.\n",
            "   0. -2.]\n",
            " [ 0.  1.  1.  2. -5.  4.  2. -1.  3. -2. -2.  1. -1. -5.  0. -1. -1. -5.\n",
            "  -4. -2.]\n",
            " [ 0. -1.  1.  3. -5.  2.  4.  0.  1. -2. -3.  0. -2. -5. -1.  0.  0. -7.\n",
            "  -4. -2.]\n",
            " [ 1. -3.  0.  1. -3. -1.  0.  5. -2. -3. -4. -2. -3. -5.  0.  1.  0. -7.\n",
            "  -5. -1.]\n",
            " [-1.  2.  2.  1. -3.  3.  1. -2.  6. -2. -2.  0. -2. -2.  0. -1. -1. -3.\n",
            "   0. -2.]\n",
            " [-1. -2. -2. -2. -2. -2. -2. -3. -2.  5.  2. -2.  2.  1. -2. -1.  0. -5.\n",
            "  -1.  4.]\n",
            " [-2. -3. -3. -4. -6. -2. -3. -4. -2.  2.  6. -3.  4.  2. -3. -3. -2. -2.\n",
            "  -1.  2.]\n",
            " [-1.  3.  1.  0. -5.  1.  0. -2.  0. -2. -3.  5.  0. -5. -1.  0.  0. -3.\n",
            "  -4. -2.]\n",
            " [-1.  0. -2. -3. -5. -1. -2. -3. -2.  2.  4.  0.  6.  0. -2. -2. -1. -4.\n",
            "  -2.  2.]\n",
            " [-3. -4. -3. -6. -4. -5. -5. -5. -2.  1.  2. -5.  0.  9. -5. -3. -3.  0.\n",
            "   7. -1.]\n",
            " [ 1.  0.  0. -1. -3.  0. -1.  0.  0. -2. -3. -1. -2. -5.  6.  1.  0. -6.\n",
            "  -5. -1.]\n",
            " [ 1.  0.  1.  0.  0. -1.  0.  1. -1. -1. -3.  0. -2. -3.  1.  2.  1. -2.\n",
            "  -3. -1.]\n",
            " [ 1. -1.  0.  0. -2. -1.  0.  0. -1.  0. -2.  0. -1. -3.  0.  1.  3. -5.\n",
            "  -3.  0.]\n",
            " [-6.  2. -4. -7. -8. -5. -7. -7. -3. -5. -2. -3. -4.  0. -6. -2. -5. 17.\n",
            "   0. -6.]\n",
            " [-3. -4. -2. -4.  0. -4. -4. -5.  0. -1. -1. -4. -2.  7. -5. -3. -3.  0.\n",
            "  10. -2.]\n",
            " [ 0. -2. -2. -2. -2. -2. -2. -1. -2.  4.  2. -2.  2. -1. -1. -1.  0. -6.\n",
            "  -2.  4.]]\n"
          ]
        }
      ]
    },
    {
      "cell_type": "code",
      "source": [
        "import numpy as np\n",
        "from Bio.Align import substitution_matrices as matlist\n",
        "from Bio import pairwise2\n",
        "from Bio.pairwise2 import format_alignment\n",
        "\n",
        "matrixFile = \"ARNDCQEGHILKMFPSTWYV\"\n",
        "matrix = matlist.load(\"BLOSUM50\")\n",
        "\n",
        "length = len(matrixFile)\n",
        "blosum = list()\n",
        "for x in range(length):\n",
        "  for y in range(length):\n",
        "    data = (matrixFile[x], matrixFile[y])\n",
        "    if data in matrix:\n",
        "      blosum.append(matrix[data])\n",
        "    else:\n",
        "      adata = (matrixFile[y], matrixFile[x])\n",
        "      blosum.append(matrix[adata])\n",
        "print(np.reshape(blosum, (length, length)))"
      ],
      "metadata": {
        "colab": {
          "base_uri": "https://localhost:8080/"
        },
        "id": "Uuk0TXOtvWFl",
        "outputId": "20ce33e7-8897-4f90-c79a-e1a8bd427d76"
      },
      "execution_count": null,
      "outputs": [
        {
          "output_type": "stream",
          "name": "stdout",
          "text": [
            "[[ 5. -2. -1. -2. -1. -1. -1.  0. -2. -1. -2. -1. -1. -3. -1.  1.  0. -3.\n",
            "  -2.  0.]\n",
            " [-2.  7. -1. -2. -4.  1.  0. -3.  0. -4. -3.  3. -2. -3. -3. -1. -1. -3.\n",
            "  -1. -3.]\n",
            " [-1. -1.  7.  2. -2.  0.  0.  0.  1. -3. -4.  0. -2. -4. -2.  1.  0. -4.\n",
            "  -2. -3.]\n",
            " [-2. -2.  2.  8. -4.  0.  2. -1. -1. -4. -4. -1. -4. -5. -1.  0. -1. -5.\n",
            "  -3. -4.]\n",
            " [-1. -4. -2. -4. 13. -3. -3. -3. -3. -2. -2. -3. -2. -2. -4. -1. -1. -5.\n",
            "  -3. -1.]\n",
            " [-1.  1.  0.  0. -3.  7.  2. -2.  1. -3. -2.  2.  0. -4. -1.  0. -1. -1.\n",
            "  -1. -3.]\n",
            " [-1.  0.  0.  2. -3.  2.  6. -3.  0. -4. -3.  1. -2. -3. -1. -1. -1. -3.\n",
            "  -2. -3.]\n",
            " [ 0. -3.  0. -1. -3. -2. -3.  8. -2. -4. -4. -2. -3. -4. -2.  0. -2. -3.\n",
            "  -3. -4.]\n",
            " [-2.  0.  1. -1. -3.  1.  0. -2. 10. -4. -3.  0. -1. -1. -2. -1. -2. -3.\n",
            "   2. -4.]\n",
            " [-1. -4. -3. -4. -2. -3. -4. -4. -4.  5.  2. -3.  2.  0. -3. -3. -1. -3.\n",
            "  -1.  4.]\n",
            " [-2. -3. -4. -4. -2. -2. -3. -4. -3.  2.  5. -3.  3.  1. -4. -3. -1. -2.\n",
            "  -1.  1.]\n",
            " [-1.  3.  0. -1. -3.  2.  1. -2.  0. -3. -3.  6. -2. -4. -1.  0. -1. -3.\n",
            "  -2. -3.]\n",
            " [-1. -2. -2. -4. -2.  0. -2. -3. -1.  2.  3. -2.  7.  0. -3. -2. -1. -1.\n",
            "   0.  1.]\n",
            " [-3. -3. -4. -5. -2. -4. -3. -4. -1.  0.  1. -4.  0.  8. -4. -3. -2.  1.\n",
            "   4. -1.]\n",
            " [-1. -3. -2. -1. -4. -1. -1. -2. -2. -3. -4. -1. -3. -4. 10. -1. -1. -4.\n",
            "  -3. -3.]\n",
            " [ 1. -1.  1.  0. -1.  0. -1.  0. -1. -3. -3.  0. -2. -3. -1.  5.  2. -4.\n",
            "  -2. -2.]\n",
            " [ 0. -1.  0. -1. -1. -1. -1. -2. -2. -1. -1. -1. -1. -2. -1.  2.  5. -3.\n",
            "  -2.  0.]\n",
            " [-3. -3. -4. -5. -5. -1. -3. -3. -3. -3. -2. -3. -1.  1. -4. -4. -3. 15.\n",
            "   2. -3.]\n",
            " [-2. -1. -2. -3. -3. -1. -2. -3.  2. -1. -1. -2.  0.  4. -3. -2. -2.  2.\n",
            "   8. -1.]\n",
            " [ 0. -3. -3. -4. -1. -3. -3. -4. -4.  4.  1. -3.  1. -1. -3. -2.  0. -3.\n",
            "  -1.  5.]]\n"
          ]
        }
      ]
    },
    {
      "cell_type": "code",
      "source": [
        "matrix = matlist.load(\"PAM250\")\n",
        "gap_open = -5\n",
        "gap_extend = -5\n",
        "X=\"HEAGAWGHEE\"\n",
        "Y=\"PAWHEAE\"\n",
        "alignments = pairwise2.align.localds(X, Y, matrix, gap_open, gap_extend)\n",
        "for a in alignments:\n",
        "        print(format_alignment(*a))"
      ],
      "metadata": {
        "colab": {
          "base_uri": "https://localhost:8080/"
        },
        "id": "qMxroQc6wzzM",
        "outputId": "572d999d-867f-4255-86b2-1f519b0d436f"
      },
      "execution_count": null,
      "outputs": [
        {
          "output_type": "stream",
          "name": "stdout",
          "text": [
            "5 AWGHE\n",
            "  || ||\n",
            "2 AW-HE\n",
            "  Score=24\n",
            "\n"
          ]
        }
      ]
    },
    {
      "cell_type": "code",
      "source": [
        "matrix = matlist.load(\"BLOSUM50\")\n",
        "gap_open = -8\n",
        "gap_extend = -8\n",
        "X=\"VSPAGMASGYD\"\n",
        "Y=\"IPGKASYD\"\n",
        "alignments = pairwise2.align.localds(X, Y, matrix, gap_open, gap_extend)\n",
        "for a in alignments:\n",
        "        print(format_alignment(*a))"
      ],
      "metadata": {
        "colab": {
          "base_uri": "https://localhost:8080/"
        },
        "id": "0yTWwMN5xrbk",
        "outputId": "6b27196f-cfdc-4cd9-d01e-74213a42cf0b"
      },
      "execution_count": null,
      "outputs": [
        {
          "output_type": "stream",
          "name": "stdout",
          "text": [
            "3 PAGMASGYD\n",
            "  | |.|| ||\n",
            "2 P-GKAS-YD\n",
            "  Score=26\n",
            "\n"
          ]
        }
      ]
    },
    {
      "cell_type": "code",
      "source": [
        "matrix = matlist.load(\"PAM250\")\n",
        "gap_open = -5\n",
        "gap_extend = -5\n",
        "\n",
        "#Only using the first 60 aas for visualization reasons\n",
        "X = \"IGRHRYHIGG\"\n",
        "Y = \"SRYIGRG\"\n",
        "\n",
        "alignments = pairwise2.align.globalds(X, Y, matrix, gap_open, gap_extend)\n",
        "for a in alignments:\n",
        "    print(format_alignment(*a))"
      ],
      "metadata": {
        "colab": {
          "base_uri": "https://localhost:8080/"
        },
        "id": "H11pYU-Ny52r",
        "outputId": "f9288d46-963f-4e64-819b-785b19d8597f"
      },
      "execution_count": null,
      "outputs": [
        {
          "output_type": "stream",
          "name": "stdout",
          "text": [
            "IGRHRYHIG-G\n",
            " .  || || |\n",
            "-S--RY-IGRG\n",
            "  Score=7\n",
            "\n",
            "IGRHRYHIG-G\n",
            " .|  | || |\n",
            "-SR--Y-IGRG\n",
            "  Score=7\n",
            "\n"
          ]
        }
      ]
    },
    {
      "cell_type": "code",
      "source": [
        "matrix = matlist.load(\"BLOSUM50\")\n",
        "gap_open = -8\n",
        "gap_extend = -8\n",
        "\n",
        "#Only using the first 60 aas for visualization reasons\n",
        "X = \"VSPAGMASGYD\"\n",
        "Y = \"IPGKASYD\"\n",
        "\n",
        "alignments = pairwise2.align.globalds(X, Y, matrix, gap_open, gap_extend)\n",
        "for a in alignments:\n",
        "    print(format_alignment(*a))"
      ],
      "metadata": {
        "colab": {
          "base_uri": "https://localhost:8080/"
        },
        "id": "Ktw4cQrZzfId",
        "outputId": "c3218785-cf2e-47e7-946c-56c1fce1d891"
      },
      "execution_count": null,
      "outputs": [
        {
          "output_type": "stream",
          "name": "stdout",
          "text": [
            "VSPAGMASGYD\n",
            ". | |.|| ||\n",
            "I-P-GKAS-YD\n",
            "  Score=22\n",
            "\n"
          ]
        }
      ]
    },
    {
      "cell_type": "code",
      "source": [],
      "metadata": {
        "id": "BTofDBiT0VxE"
      },
      "execution_count": null,
      "outputs": []
    }
  ]
}